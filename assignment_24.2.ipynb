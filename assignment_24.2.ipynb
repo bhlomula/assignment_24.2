{
 "cells": [
  {
   "cell_type": "code",
   "execution_count": 16,
   "metadata": {},
   "outputs": [],
   "source": [
    "def longWord(lst):\n",
    "    ln=0\n",
    "    for i in lst.split():\n",
    "        if len(i)>ln :\n",
    "            ln=len(i)\n",
    "            x=i\n",
    "    return x\n",
    "    "
   ]
  },
  {
   "cell_type": "code",
   "execution_count": 18,
   "metadata": {},
   "outputs": [
    {
     "name": "stdout",
     "output_type": "stream",
     "text": [
      "The longest word is: bekezela\n"
     ]
    }
   ],
   "source": [
    "xx='my name is bekezela hloms'\n",
    "print('The longest word is: {}'.format(longWord(xx)))"
   ]
  }
 ],
 "metadata": {
  "kernelspec": {
   "display_name": "Python 3",
   "language": "python",
   "name": "python3"
  },
  "language_info": {
   "codemirror_mode": {
    "name": "ipython",
    "version": 3
   },
   "file_extension": ".py",
   "mimetype": "text/x-python",
   "name": "python",
   "nbconvert_exporter": "python",
   "pygments_lexer": "ipython3",
   "version": "3.7.0"
  }
 },
 "nbformat": 4,
 "nbformat_minor": 2
}
